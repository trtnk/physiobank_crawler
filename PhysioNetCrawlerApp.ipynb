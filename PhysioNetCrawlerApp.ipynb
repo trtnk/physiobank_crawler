{
 "cells": [
  {
   "cell_type": "markdown",
   "metadata": {},
   "source": [
    "# PhysioBankCrawlerApp"
   ]
  },
  {
   "cell_type": "code",
   "execution_count": 1,
   "metadata": {},
   "outputs": [],
   "source": [
    "%load_ext autoreload\n",
    "%autoreload 2"
   ]
  },
  {
   "cell_type": "markdown",
   "metadata": {},
   "source": [
    "## Required library\n",
    "* selenium\n",
    "* beautifulsoup\n",
    "* ipywidgets"
   ]
  },
  {
   "cell_type": "code",
   "execution_count": 2,
   "metadata": {},
   "outputs": [],
   "source": [
    "from ipywidgets import interact, Select, Button, Output, Text\n",
    "from IPython.display import display\n",
    "import functools\n",
    "\n",
    "from crawler.physiobank_crawler import PhysioBankCrawler"
   ]
  },
  {
   "cell_type": "code",
   "execution_count": 3,
   "metadata": {},
   "outputs": [
    {
     "name": "stdout",
     "output_type": "stream",
     "text": [
      "https://archive.physionet.org/cgi-bin/atm/ATM open!\n"
     ]
    }
   ],
   "source": [
    "# setting save directory\n",
    "save_directory = \".\"\n",
    "\n",
    "# chrome driver's path\n",
    "chrome_driver_path = \"/your-chromedriver-dir-path/chromedriver.exe\"\n",
    "\n",
    "# if you use proxy, set below option\n",
    "proxy = None # \"{proxy_server_url}:{port}\"\n",
    "proxy_auth = None # \"{user_id}:{possword}\"\n",
    "\n",
    "# If you do not want to display the browser, set the following option to True.\n",
    "headless = False\n",
    "\n",
    "cr = PhysioBankCrawler(data_type=\"image\", save_dir=save_directory, headless=headless, driver_path=chrome_driver_path, proxy=proxy, proxy_auth=proxy_auth)"
   ]
  },
  {
   "cell_type": "code",
   "execution_count": 4,
   "metadata": {},
   "outputs": [
    {
     "data": {
      "application/vnd.jupyter.widget-view+json": {
       "model_id": "eafd35a8b343457f99d8f337219fadde",
       "version_major": 2,
       "version_minor": 0
      },
      "text/plain": [
       "interactive(children=(Select(description='Dataset:', options=('', 'Abdominal and Direct Fetal ECG Database (ad…"
      ]
     },
     "metadata": {},
     "output_type": "display_data"
    },
    {
     "data": {
      "text/plain": [
       "<function __main__.dataset_select(dataset)>"
      ]
     },
     "execution_count": 4,
     "metadata": {},
     "output_type": "execute_result"
    }
   ],
   "source": [
    "def crawling_setting(data_type, signal, start_record, length, time_format, data_format):\n",
    "    cr.data_type = data_type\n",
    "    cr.signal = signal\n",
    "    cr.set_output_parameter(length=length, time_format=time_format, data_format=data_format)\n",
    "    print(\"Crawling setting finish.\")\n",
    "\n",
    "def dataset_select(dataset):\n",
    "    if dataset:\n",
    "        cr.dataset = dataset\n",
    "        data_type_ = Select(description=\"save type:\", options=[\"image\"], rows=1)\n",
    "        signal_ = Select(description=\"signal:\", options=cr.signal_list, rows=1)\n",
    "        start_record_ = Select(description=\"start record:\", options=cr.record_list, rows=1)\n",
    "        length_ = Select(description=\"length:\", options=cr.length_list, rows=1)\n",
    "        time_format_ = Select(description=\"time_format:\", options=cr.time_format_list, rows=1)\n",
    "        data_format_ = Select(description=\"data_format:\", options=cr.data_format_list, rows=1)\n",
    "        interact(crawling_setting, data_type=data_type_, signal=signal_, start_record=start_record_, length=length_, time_format=time_format_, data_format=data_format_)\n",
    "        \n",
    "dataset_ = Select(description='Dataset:', options=[\"\"] + cr.dataset_list, rows=1)\n",
    "interact(dataset_select, dataset=dataset_)"
   ]
  },
  {
   "cell_type": "code",
   "execution_count": 6,
   "metadata": {},
   "outputs": [
    {
     "data": {
      "application/vnd.jupyter.widget-view+json": {
       "model_id": "98b6c6696a2f4052884e26c753925a91",
       "version_major": 2,
       "version_minor": 0
      },
      "text/plain": [
       "Button(description='Crawling start', style=ButtonStyle())"
      ]
     },
     "metadata": {},
     "output_type": "display_data"
    },
    {
     "data": {
      "application/vnd.jupyter.widget-view+json": {
       "model_id": "e49a59c0d6c144539e1a63d4e3e3799a",
       "version_major": 2,
       "version_minor": 0
      },
      "text/plain": [
       "Output()"
      ]
     },
     "metadata": {},
     "output_type": "display_data"
    }
   ],
   "source": [
    "button = Button(description=\"Crawling start\")\n",
    "output = Output()\n",
    "display(button, output)\n",
    "\n",
    "def crawling_execute(b):\n",
    "    with output:\n",
    "        cr.crawling_all_record()\n",
    "        \n",
    "button.on_click(crawling_execute)"
   ]
  },
  {
   "cell_type": "code",
   "execution_count": 5,
   "metadata": {},
   "outputs": [],
   "source": [
    "# process finish\n",
    "cr.close()"
   ]
  },
  {
   "cell_type": "code",
   "execution_count": null,
   "metadata": {},
   "outputs": [],
   "source": []
  }
 ],
 "metadata": {
  "kernelspec": {
   "display_name": "Environment (conda_statistics)",
   "language": "python",
   "name": "conda_statistics"
  },
  "language_info": {
   "codemirror_mode": {
    "name": "ipython",
    "version": 3
   },
   "file_extension": ".py",
   "mimetype": "text/x-python",
   "name": "python",
   "nbconvert_exporter": "python",
   "pygments_lexer": "ipython3",
   "version": "3.7.5"
  }
 },
 "nbformat": 4,
 "nbformat_minor": 4
}
